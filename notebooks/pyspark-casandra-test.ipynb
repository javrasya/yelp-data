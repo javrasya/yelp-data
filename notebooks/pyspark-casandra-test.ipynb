{
 "cells": [
  {
   "cell_type": "code",
   "execution_count": 1,
   "metadata": {
    "collapsed": true
   },
   "outputs": [],
   "source": [
    "import pyspark\n",
    "sc = pyspark.SparkContext('local[*]')"
   ]
  },
  {
   "cell_type": "code",
   "execution_count": 2,
   "metadata": {
    "collapsed": true
   },
   "outputs": [],
   "source": [
    "from  pyspark.sql import SQLContext\n",
    "sqlContext = SQLContext(sc)"
   ]
  },
  {
   "cell_type": "code",
   "execution_count": 5,
   "metadata": {},
   "outputs": [
    {
     "data": {
      "text/plain": [
       "u'cassandra'"
      ]
     },
     "execution_count": 5,
     "metadata": {},
     "output_type": "execute_result"
    }
   ],
   "source": [
    "sc.getConf().get(\"spark.cassandra.connection.host\")"
   ]
  },
  {
   "cell_type": "code",
   "execution_count": 7,
   "metadata": {},
   "outputs": [
    {
     "name": "stdout",
     "output_type": "stream",
     "text": [
      "+--------------------+----+-----+---+-----+\n",
      "|                  id|year|month|day|views|\n",
      "+--------------------+----+-----+---+-----+\n",
      "|771434b9-feea-4d4...|2017|    7|  9|  456|\n",
      "+--------------------+----+-----+---+-----+\n",
      "\n"
     ]
    }
   ],
   "source": [
    "sqlContext.read.format(\"org.apache.spark.sql.cassandra\").options(table=\"campaign\", keyspace=\"mytestkeyspace\").load().show()"
   ]
  },
  {
   "cell_type": "code",
   "execution_count": 16,
   "metadata": {
    "collapsed": true
   },
   "outputs": [],
   "source": [
    "sqlContext.read.format(\"org.apache.spark.sql.cassandra\").options(table=\"campaign\", keyspace=\"mytestkeyspace\").load().registerTempTable(\"campaign\")"
   ]
  },
  {
   "cell_type": "code",
   "execution_count": 23,
   "metadata": {},
   "outputs": [
    {
     "name": "stdout",
     "output_type": "stream",
     "text": [
      "+--------------------+----+-----+---+-----+\n",
      "|                  id|year|month|day|views|\n",
      "+--------------------+----+-----+---+-----+\n",
      "|771434b9-feea-4d4...|2017|    7|  9|  456|\n",
      "+--------------------+----+-----+---+-----+\n",
      "\n"
     ]
    }
   ],
   "source": [
    "# While this query can't be executed on cassandra, it is available to do it on spark sql\n",
    "sqlContext.sql(\"\"\"\n",
    "select \n",
    "    * \n",
    "from campaign \n",
    "where \n",
    "id='771434b9-feea-4d45-9b29-624052cf2308' and \n",
    "year>2016 and \n",
    "month>=7\n",
    "\"\"\").show()\n"
   ]
  },
  {
   "cell_type": "code",
   "execution_count": null,
   "metadata": {
    "collapsed": true
   },
   "outputs": [],
   "source": []
  }
 ],
 "metadata": {
  "kernelspec": {
   "display_name": "Python 2",
   "language": "python",
   "name": "python2"
  },
  "language_info": {
   "codemirror_mode": {
    "name": "ipython",
    "version": 2
   },
   "file_extension": ".py",
   "mimetype": "text/x-python",
   "name": "python",
   "nbconvert_exporter": "python",
   "pygments_lexer": "ipython2",
   "version": "2.7.13"
  }
 },
 "nbformat": 4,
 "nbformat_minor": 2
}
