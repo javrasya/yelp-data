{
 "cells": [
  {
   "cell_type": "code",
   "execution_count": 1,
   "metadata": {
    "collapsed": true
   },
   "outputs": [],
   "source": [
    "import org.apache.spark.sql.SparkSession\n",
    "import org.apache.spark.sql.cassandra._\n",
    "val sparkSession = SparkSession.builder().config(sc.getConf).getOrCreate()\n",
    "import sparkSession.implicits._"
   ]
  },
  {
   "cell_type": "code",
   "execution_count": 2,
   "metadata": {
    "collapsed": true
   },
   "outputs": [],
   "source": [
    "sparkSession.read.cassandraFormat(keyspace = \"yelp\", table = \"review\").load().createOrReplaceTempView(\"review\")\n",
    "sparkSession.read.cassandraFormat(keyspace = \"yelp\", table = \"business\").load().createOrReplaceTempView(\"business\")"
   ]
  },
  {
   "cell_type": "code",
   "execution_count": 1,
   "metadata": {},
   "outputs": [
    {
     "name": "stdout",
     "output_type": "stream",
     "text": [
      "\r",
      "                                                                                \r",
      "+----------------------+----------------------------------+---------------+----------------------+----------+\n",
      "|business_id           |business_name                     |bad_thing_count|review_happened_at    |date      |\n",
      "+----------------------+----------------------------------+---------------+----------------------+----------+\n",
      "|6TKJDgTrUoD3zu77A4JHnQ|Coco's Family Restaurant          |3              |aNuInnV1XZ1ZCWRSnSCgCA|2007-09-22|\n",
      "|st_pnALlGB6OCWkb4e14mg|Bada Boom Pasta Room              |3              |TOQVb5aFxBEzMNTq0v5euQ|2008-04-20|\n",
      "|st_pnALlGB6OCWkb4e14mg|Bada Boom Pasta Room              |3              |wX_B_xiQbUxLy_S9zrg-og|2008-06-30|\n",
      "|Ja4stXdNYr39u5CZHMNtjw|Cien Agaves Tacos & Tequila       |3              |IMEGRo_3_ClqsNHw2jHsyA|2008-10-17|\n",
      "|saWZO6hB4B8P-mIzS1--Xw|Kabob Palace                      |3              |Mxunr5MHhLGRK-yP1VFtqw|2008-12-28|\n",
      "|Gi48Z9ZPlEUgQU1xo_7Hjw|Espresso Royale                   |3              |7Z1zarmPE3CrKvR3SOuVtg|2009-01-18|\n",
      "|Ja4stXdNYr39u5CZHMNtjw|Cien Agaves Tacos & Tequila       |4              |pP3JtP41yCEw_knCtcBGfA|2009-02-07|\n",
      "|Gi48Z9ZPlEUgQU1xo_7Hjw|Espresso Royale                   |4              |Sg2R32kRBf28q52JYMOLNw|2009-02-17|\n",
      "|Ja4stXdNYr39u5CZHMNtjw|Cien Agaves Tacos & Tequila       |5              |qs3mHuU4zYsUKvdBmJYSMQ|2009-03-18|\n",
      "|Ja4stXdNYr39u5CZHMNtjw|Cien Agaves Tacos & Tequila       |3              |BWGCYzlw79RZi9giK9RBZQ|2009-04-03|\n",
      "|InDH4ZQ_byiQ5PyaqgHI8Q|Big Mama's Soul Food Rib Shack    |3              |XVtRfoxt4-BT2S5xt1UwZg|2009-04-19|\n",
      "|Gi48Z9ZPlEUgQU1xo_7Hjw|Espresso Royale                   |4              |0CiioWfjcNhHm3CZMAytvg|2009-05-07|\n",
      "|st_pnALlGB6OCWkb4e14mg|Bada Boom Pasta Room              |3              |DaMoRnUd48XLJ6ce9UFyTQ|2009-05-16|\n",
      "|saWZO6hB4B8P-mIzS1--Xw|Kabob Palace                      |4              |cbOo7WOPukS-H2qTt_rPVg|2009-05-22|\n",
      "|saWZO6hB4B8P-mIzS1--Xw|Kabob Palace                      |5              |1lloZDLd2R9-SBhfZ8n83g|2009-10-04|\n",
      "|Ja4stXdNYr39u5CZHMNtjw|Cien Agaves Tacos & Tequila       |3              |OK4MxbxqAmMP3XM49int5Q|2009-10-14|\n",
      "|saWZO6hB4B8P-mIzS1--Xw|Kabob Palace                      |6              |vRKq5AB4X--SdBtwlJ5G_Q|2009-11-14|\n",
      "|6TKJDgTrUoD3zu77A4JHnQ|Coco's Family Restaurant          |4              |78cUNp_a4gHBobMjoAat6g|2009-11-24|\n",
      "|Ja4stXdNYr39u5CZHMNtjw|Cien Agaves Tacos & Tequila       |4              |ZhjeI3prTaNNgwXgahg-yg|2009-12-10|\n",
      "|saWZO6hB4B8P-mIzS1--Xw|Kabob Palace                      |6              |JHWorbm9RtGkUSRb26AiOg|2010-01-18|\n",
      "|2px99IppAcnxR238eq_8_w|Big Buddha                        |3              |m4i-Xs_IDwhPWuXHBK71eA|2010-01-30|\n",
      "|saWZO6hB4B8P-mIzS1--Xw|Kabob Palace                      |6              |j05T73NFG3D_wSJ27BGqwA|2010-02-23|\n",
      "|mRv3Z25F56qduMKnvnCkVA|Kokoya                            |3              |6WAQWuoj6rNbBAY_aPjBpg|2010-04-20|\n",
      "|mRv3Z25F56qduMKnvnCkVA|Kokoya                            |4              |6DJtkMQg9t0gQlWzGBbDmg|2010-04-25|\n",
      "|Ja4stXdNYr39u5CZHMNtjw|Cien Agaves Tacos & Tequila       |3              |TnxznNHKGEhWFsQAUqF-7A|2010-04-27|\n",
      "|Gi48Z9ZPlEUgQU1xo_7Hjw|Espresso Royale                   |4              |d-Dr0OwuKEcCa4H4QXs1Hg|2010-04-30|\n",
      "|2px99IppAcnxR238eq_8_w|Big Buddha                        |3              |s1MSZqi00AzR2qx9WnOxrg|2010-06-03|\n",
      "|saWZO6hB4B8P-mIzS1--Xw|Kabob Palace                      |6              |tYcNcHBxjc9IQYtdAPwa2Q|2010-06-20|\n",
      "|Ja4stXdNYr39u5CZHMNtjw|Cien Agaves Tacos & Tequila       |3              |xCuNdhOEd1Hq0BUBbNx7Yg|2010-07-30|\n",
      "|Gi48Z9ZPlEUgQU1xo_7Hjw|Espresso Royale                   |5              |Y11HdXxK4C2sYVsbE6AzAA|2010-08-18|\n",
      "|saWZO6hB4B8P-mIzS1--Xw|Kabob Palace                      |5              |Ahq1v_fyEy00giS3JC7aLg|2010-08-21|\n",
      "|FGpQNuyA4ok_nr5GlEwaFw|Disco                             |3              |O4DhCuytVXQ49yP0xTIJ2A|2010-08-23|\n",
      "|Ja4stXdNYr39u5CZHMNtjw|Cien Agaves Tacos & Tequila       |3              |amTo_UK55rZcwuyjbgwR-A|2010-08-24|\n",
      "|FGpQNuyA4ok_nr5GlEwaFw|Disco                             |4              |y4UMUKVacAbiTlxcmHWvQQ|2010-08-28|\n",
      "|KSDl6yx-Kc60yyJHNvz7zg|Urban Active Fitness              |3              |1AX9Oz2AWMMl5xJCxtu-aA|2010-08-30|\n",
      "|Ja4stXdNYr39u5CZHMNtjw|Cien Agaves Tacos & Tequila       |3              |Xg2TTD2md1NLwKCbV7uYRg|2010-09-07|\n",
      "|Ja4stXdNYr39u5CZHMNtjw|Cien Agaves Tacos & Tequila       |3              |WCbKpZ6yNMHyEyIDejnxZA|2010-10-07|\n",
      "|kUntNQ5P9IrRzEoHdRxV-w|Mark Rich's New York Pizza & Pasta|3              |oHoHDUOyqF5446PqU2ITjg|2010-10-14|\n",
      "|Ja4stXdNYr39u5CZHMNtjw|Cien Agaves Tacos & Tequila       |3              |T1QN625s2HPK4KKXvFIVzQ|2010-10-17|\n",
      "|FGpQNuyA4ok_nr5GlEwaFw|Disco                             |4              |vtcTbzUxQndrY6iU9Tzbhg|2010-10-23|\n",
      "|mRv3Z25F56qduMKnvnCkVA|Kokoya                            |5              |YNenZMOm1FcXXSX0XHsSCQ|2010-11-06|\n",
      "|Ja4stXdNYr39u5CZHMNtjw|Cien Agaves Tacos & Tequila       |3              |Jt3QbOVtcNo4sk-onmz30A|2010-11-07|\n",
      "|kUntNQ5P9IrRzEoHdRxV-w|Mark Rich's New York Pizza & Pasta|4              |f3jzMG2vNqL7QeMXoUL5jQ|2010-11-29|\n",
      "|kUntNQ5P9IrRzEoHdRxV-w|Mark Rich's New York Pizza & Pasta|4              |7wMZnyfRJiHDKncYtohd_w|2010-12-06|\n",
      "|FGpQNuyA4ok_nr5GlEwaFw|Disco                             |3              |OBajqd5JK1AK4TiLTQjCag|2010-12-13|\n",
      "|Ja4stXdNYr39u5CZHMNtjw|Cien Agaves Tacos & Tequila       |4              |uOK3q4D2Iocw8AttidbeRg|2010-12-13|\n",
      "|Ja4stXdNYr39u5CZHMNtjw|Cien Agaves Tacos & Tequila       |4              |OYLuO3IKNRCjkwpsAXX8cQ|2010-12-13|\n",
      "|Gi48Z9ZPlEUgQU1xo_7Hjw|Espresso Royale                   |5              |aKKoODEBcMsZp8XHW0NrsA|2010-12-28|\n",
      "|kUntNQ5P9IrRzEoHdRxV-w|Mark Rich's New York Pizza & Pasta|4              |bxOc56uA1YlJbLBHGu5oYw|2011-01-02|\n",
      "|KSDl6yx-Kc60yyJHNvz7zg|Urban Active Fitness              |4              |WqtKqydLntZoRUjp2Iu8vQ|2011-01-03|\n",
      "+----------------------+----------------------------------+---------------+----------------------+----------+\n",
      "only showing top 50 rows\n",
      "\n"
     ]
    }
   ],
   "source": [
    "sparkSession.sql(\"\"\"\n",
    "    select\n",
    "        business_id,\n",
    "        name business_name,\n",
    "        bad_thing_count,\n",
    "        review_id review_happened_at,\n",
    "        date\n",
    "    from(\n",
    "        select\n",
    "            review_id,\n",
    "            business_id,\n",
    "            name,\n",
    "            date,\n",
    "            bad_thing_count,\n",
    "            case\n",
    "                when\n",
    "                     stars<=3 and\n",
    "                     bad_thing_count>=3\n",
    "                 then 1\n",
    "                 else 0\n",
    "                 end\n",
    "                 as bad_thing_happened        \n",
    "        from(\n",
    "            select\n",
    "                review_id,\n",
    "                business_id,\n",
    "                name,\n",
    "                stars,\n",
    "                date,\n",
    "                sum(bad_thing_lasting) over \n",
    "                         (PARTITION BY business_id ORDER BY date ROWS BETWEEN 5 PRECEDING AND CURRENT ROW) bad_thing_count\n",
    "            from(\n",
    "                select\n",
    "                    r.review_id,\n",
    "                    b.business_id,\n",
    "                    b.name,\n",
    "                    r.stars,\n",
    "                    r.date,\n",
    "                    case\n",
    "                        when\n",
    "                            lag(r.stars) over (PARTITION BY b.business_id ORDER BY r.date)<=3\n",
    "                        then 1 \n",
    "                        else 0 \n",
    "                        end\n",
    "                        as bad_thing_lasting\n",
    "                from business b\n",
    "                    inner join review r on r.business_id = b.business_id\n",
    "            ) T\n",
    "        )\n",
    "    )\n",
    "    where bad_thing_happened=1\n",
    "    order by date\n",
    "\"\"\"\n",
    ").show(50,false)"
   ]
  },
  {
   "cell_type": "code",
   "execution_count": null,
   "metadata": {
    "collapsed": true
   },
   "outputs": [],
   "source": []
  }
 ],
 "metadata": {
  "kernelspec": {
   "display_name": "Apache Toree - Scala",
   "language": "scala",
   "name": "apache_toree_scala"
  },
  "language_info": {
   "file_extension": ".scala",
   "name": "scala",
   "version": "2.11.8"
  }
 },
 "nbformat": 4,
 "nbformat_minor": 2
}
