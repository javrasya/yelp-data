{
 "cells": [
  {
   "cell_type": "code",
   "execution_count": 1,
   "metadata": {
    "collapsed": true
   },
   "outputs": [],
   "source": [
    "import org.apache.spark.sql.SparkSession\n",
    "import org.apache.spark.sql.cassandra._\n",
    "val sparkSession = SparkSession.builder().config(sc.getConf).getOrCreate()\n",
    "import sparkSession.implicits._"
   ]
  },
  {
   "cell_type": "code",
   "execution_count": 4,
   "metadata": {
    "collapsed": true
   },
   "outputs": [],
   "source": [
    "sparkSession.read.cassandraFormat(keyspace = \"yelp\", table = \"review\").load().createOrReplaceTempView(\"review\")\n",
    "sparkSession.read.cassandraFormat(keyspace = \"yelp\", table = \"business\").load().createOrReplaceTempView(\"business\")"
   ]
  },
  {
   "cell_type": "code",
   "execution_count": 79,
   "metadata": {},
   "outputs": [
    {
     "name": "stdout",
     "output_type": "stream",
     "text": [
      "\r",
      "                                                                                \r",
      "+----------------------+-------------+---------------+----------------------+----------+\n",
      "|business_id           |business_name|bad_thing_count|review_happened_at    |date      |\n",
      "+----------------------+-------------+---------------+----------------------+----------+\n",
      "|EDqCEAGXVGCH4FJXgqtjqg|Pizza Pizza  |3              |Mz0vJLJTTRwyYKQlYOEHCA|2013-05-23|\n",
      "|EDqCEAGXVGCH4FJXgqtjqg|Pizza Pizza  |4              |nwpS4voFjschTD8mref9Yg|2014-05-30|\n",
      "|cdk-qqJ71q6P7TJTww_DSA|Comfort Inn  |3              |BAtxh2r4VngJ4RXLSIlZWQ|2014-06-27|\n",
      "|EDqCEAGXVGCH4FJXgqtjqg|Pizza Pizza  |5              |8yrO1JkClTjS8_8oCS0AQg|2014-08-24|\n",
      "|cdk-qqJ71q6P7TJTww_DSA|Comfort Inn  |4              |QSftxVxeF_PenhB9ndQOEw|2015-03-01|\n",
      "|cdk-qqJ71q6P7TJTww_DSA|Comfort Inn  |5              |tQysCIGKX3g5QPtIeeuvSA|2015-11-29|\n",
      "|cdk-qqJ71q6P7TJTww_DSA|Comfort Inn  |5              |u1HWRi-AxbyeDFZWRzBwVA|2016-05-15|\n",
      "+----------------------+-------------+---------------+----------------------+----------+\n",
      "\n"
     ]
    }
   ],
   "source": [
    "sparkSession.sql(\"\"\"\n",
    "    select\n",
    "        business_id,\n",
    "        name business_name,\n",
    "        bad_thing_count,\n",
    "        review_id review_happened_at,\n",
    "        date\n",
    "    from(\n",
    "        select\n",
    "            review_id,\n",
    "            business_id,\n",
    "            name,\n",
    "            date,\n",
    "            bad_thing_count,\n",
    "            case\n",
    "                when\n",
    "                     stars<=3 and\n",
    "                     bad_thing_count>=3\n",
    "                 then 1\n",
    "                 else 0\n",
    "                 end\n",
    "                 as bad_thing_happened        \n",
    "        from(\n",
    "            select\n",
    "                review_id,\n",
    "                business_id,\n",
    "                name,\n",
    "                stars,\n",
    "                date,\n",
    "                sum(bad_thing_lasting) over \n",
    "                         (PARTITION BY business_id ORDER BY date ROWS BETWEEN 5 PRECEDING AND CURRENT ROW) bad_thing_count\n",
    "            from(\n",
    "                select\n",
    "                    r.review_id,\n",
    "                    b.business_id,\n",
    "                    b.name,\n",
    "                    r.stars,\n",
    "                    r.date,\n",
    "                    case\n",
    "                        when\n",
    "                            lag(r.stars) over (PARTITION BY b.business_id ORDER BY r.date)<=3\n",
    "                        then 1 \n",
    "                        else 0 \n",
    "                        end\n",
    "                        as bad_thing_lasting\n",
    "                from business b\n",
    "                    inner join review r on r.business_id = b.business_id\n",
    "            ) T\n",
    "        )\n",
    "    )\n",
    "    where bad_thing_happened=1\n",
    "    order by date\n",
    "\"\"\"\n",
    ").show(50,false)"
   ]
  },
  {
   "cell_type": "code",
   "execution_count": null,
   "metadata": {
    "collapsed": true
   },
   "outputs": [],
   "source": []
  }
 ],
 "metadata": {
  "kernelspec": {
   "display_name": "Apache Toree - Scala",
   "language": "scala",
   "name": "apache_toree_scala"
  },
  "language_info": {
   "file_extension": ".scala",
   "name": "scala",
   "version": "2.11.8"
  }
 },
 "nbformat": 4,
 "nbformat_minor": 2
}
