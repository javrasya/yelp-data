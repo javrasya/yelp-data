{
 "cells": [
  {
   "cell_type": "code",
   "execution_count": 2,
   "metadata": {
    "collapsed": true
   },
   "outputs": [],
   "source": [
    "import org.apache.spark.sql.SparkSession\n",
    "import org.apache.spark.sql.cassandra._\n",
    "val sparkSession = SparkSession.builder().config(sc.getConf).getOrCreate()\n",
    "import sparkSession.implicits._"
   ]
  },
  {
   "cell_type": "code",
   "execution_count": 3,
   "metadata": {
    "collapsed": true
   },
   "outputs": [],
   "source": [
    "sparkSession.read.textFile(\"file:///usr/lib/yelp_data/stopwords.txt\").createTempView(\"stop_words\")\n",
    "sparkSession.read.cassandraFormat(keyspace = \"yelp\", table = \"review\").load().createTempView(\"review\")\n",
    "sparkSession.read.cassandraFormat(keyspace = \"yelp\", table = \"business\").load().createTempView(\"business\")"
   ]
  },
  {
   "cell_type": "code",
   "execution_count": 5,
   "metadata": {},
   "outputs": [
    {
     "name": "stdout",
     "output_type": "stream",
     "text": [
      "+-------------------+----------+---+-----+\n",
      "|business_name      |word      |avg|total|\n",
      "+-------------------+----------+---+-----+\n",
      "|Cut and Taste      |food      |5.0|70   |\n",
      "|Cut and Taste      |cut       |5.0|60   |\n",
      "|Cut and Taste      |taste     |5.0|55   |\n",
      "|Cut and Taste      |jeremy    |5.0|30   |\n",
      "|Cut and Taste      |menu      |5.0|30   |\n",
      "|Cut and Taste      |guests    |5.0|25   |\n",
      "|Innovative Vapors  |best      |5.0|25   |\n",
      "|Cut and Taste      |wedding   |5.0|25   |\n",
      "|Innovative Vapors  |know      |5.0|25   |\n",
      "|Innovative Vapors  |helped    |5.0|25   |\n",
      "|Innovative Vapors  |vaping    |5.0|20   |\n",
      "|Innovative Vapors  |lounge    |5.0|20   |\n",
      "|Cut and Taste      |impressive|5.0|20   |\n",
      "|Cut and Taste      |received  |5.0|20   |\n",
      "|Cut and Taste      |catered   |5.0|20   |\n",
      "|Innovative Vapors  |told      |5.0|20   |\n",
      "|Innovative Vapors  |excellent |5.0|20   |\n",
      "|Innovative Vapors  |staff     |5.0|20   |\n",
      "|Cut and Taste      |best      |5.0|20   |\n",
      "|Cut and Taste      |party     |5.0|20   |\n",
      "|Cut and Taste      |alex      |5.0|20   |\n",
      "|Cut and Taste      |tell      |5.0|20   |\n",
      "|Cut and Taste      |recommend |5.0|15   |\n",
      "|Innovative Vapors  |innovative|5.0|15   |\n",
      "|Plush Salon and Spa|great     |5.0|15   |\n",
      "|Innovative Vapors  |vape      |5.0|15   |\n",
      "|Innovative Vapors  |andrew    |5.0|15   |\n",
      "|Cut and Taste      |one       |5.0|15   |\n",
      "|Cut and Taste      |event     |5.0|15   |\n",
      "|Plush Salon and Spa|brianna   |5.0|15   |\n",
      "|Cut and Taste      |guys      |5.0|15   |\n",
      "|Cut and Taste      |good      |5.0|15   |\n",
      "|Innovative Vapors  |service   |5.0|15   |\n",
      "|Cut and Taste      |team      |5.0|15   |\n",
      "|Cut and Taste      |two       |5.0|15   |\n",
      "|Cut and Taste      |always    |5.0|15   |\n",
      "|Innovative Vapors  |actually  |5.0|15   |\n",
      "|Innovative Vapors  |shops     |5.0|15   |\n",
      "|Innovative Vapors  |kevin     |5.0|15   |\n",
      "|Innovative Vapors  |quality   |5.0|15   |\n",
      "|Innovative Vapors  |bad       |5.0|15   |\n",
      "|Innovative Vapors  |check     |5.0|15   |\n",
      "|Cut and Taste      |definitely|5.0|15   |\n",
      "|Cut and Taste      |phenomenal|5.0|15   |\n",
      "|Cut and Taste      |adam      |5.0|15   |\n",
      "|Cut and Taste      |very      |5.0|15   |\n",
      "|Innovative Vapors  |defective |5.0|15   |\n",
      "|Innovative Vapors  |friendly  |5.0|15   |\n",
      "|Innovative Vapors  |guys      |5.0|15   |\n",
      "|Cut and Taste      |sure      |5.0|15   |\n",
      "+-------------------+----------+---+-----+\n",
      "only showing top 50 rows\n",
      "\n"
     ]
    }
   ],
   "source": [
    "sparkSession.sql(\"\"\"\n",
    "select /*+ MAPJOIN(stop_words) */\n",
    "    business_name,\n",
    "    word,\n",
    "    avg,\n",
    "    total\n",
    "from(\n",
    "    select \n",
    "        distinct \n",
    "        b.name business_name,\n",
    "        trim(regexp_replace(lw.word,\"[^a-z]\",\"\")) word,\n",
    "        avg(r.stars) avg,\n",
    "        sum(r.stars) total\n",
    "    from review r\n",
    "         inner join business b on b.business_id = r.business_id\n",
    "     lateral view explode(split(lower(r.text),\" \")) lw as word\n",
    "    group by r.business_id,b.name,word\n",
    ") T\n",
    "left join stop_words sw on sw.value=T.word\n",
    "where sw.value is null and T.word <> ''\n",
    "order by T.avg desc,T.total desc\n",
    "\"\"\"\n",
    ").show(50,false)"
   ]
  },
  {
   "cell_type": "code",
   "execution_count": null,
   "metadata": {
    "collapsed": true
   },
   "outputs": [],
   "source": []
  }
 ],
 "metadata": {
  "kernelspec": {
   "display_name": "Apache Toree - Scala",
   "language": "scala",
   "name": "apache_toree_scala"
  },
  "language_info": {
   "file_extension": ".scala",
   "name": "scala",
   "version": "2.11.8"
  }
 },
 "nbformat": 4,
 "nbformat_minor": 2
}
