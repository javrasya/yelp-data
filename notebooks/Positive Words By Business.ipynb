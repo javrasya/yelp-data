{
 "cells": [
  {
   "cell_type": "code",
   "execution_count": 2,
   "metadata": {
    "collapsed": true
   },
   "outputs": [],
   "source": [
    "import org.apache.spark.sql.SparkSession\n",
    "import org.apache.spark.sql.cassandra._\n",
    "val sparkSession = SparkSession.builder().config(sc.getConf).getOrCreate()\n",
    "import sparkSession.implicits._"
   ]
  },
  {
   "cell_type": "code",
   "execution_count": 3,
   "metadata": {
    "collapsed": true
   },
   "outputs": [],
   "source": [
    "sparkSession.read.textFile(\"file:///usr/lib/yelp_data/stopwords/stopwords_*.txt\").createOrReplaceTempView(\"stop_words\")\n",
    "sparkSession.read.cassandraFormat(keyspace = \"yelp\", table = \"review\").load().createOrReplaceTempView(\"review\")\n",
    "sparkSession.read.cassandraFormat(keyspace = \"yelp\", table = \"business\").load().createOrReplaceTempView(\"business\")"
   ]
  },
  {
   "cell_type": "code",
   "execution_count": 5,
   "metadata": {},
   "outputs": [
    {
     "name": "stdout",
     "output_type": "stream",
     "text": [
      "+------------------------------------+----------+---+-----+\n",
      "|business_name                       |word      |avg|total|\n",
      "+------------------------------------+----------+---+-----+\n",
      "|Market Street Cafe                  |oxtail    |5.0|225  |\n",
      "|Market Street Cafe                  |soup      |5.0|225  |\n",
      "|Phoenicia Cafe                      |cous      |5.0|70   |\n",
      "|Tacos El Gordo                      |tacos     |5.0|60   |\n",
      "|The Buffet                          |buffet    |5.0|60   |\n",
      "|Strolleria                          |stroller  |5.0|50   |\n",
      "|Mercedes-Benz of Chandler           |car       |5.0|45   |\n",
      "|Airbridge Tours                     |tour      |5.0|45   |\n",
      "|Passport Photo                      |passport  |5.0|45   |\n",
      "|Harumi Sushi                        |sushi     |5.0|45   |\n",
      "|Fishman Lobster Clubhouse Restaurant|lobster   |5.0|45   |\n",
      "|Battery Park Wine Bar               |wine      |5.0|40   |\n",
      "|Burgatory                           |pick      |5.0|40   |\n",
      "|Niza Lideo                          |hair      |5.0|40   |\n",
      "|United Garage Door                  |garage    |5.0|40   |\n",
      "|La Raclette                         |raclette  |5.0|40   |\n",
      "|Mikado Japanese Restaurant          |sushi     |5.0|40   |\n",
      "|Topgolf                             |golf      |5.0|40   |\n",
      "|L'Avenue                            |le        |5.0|40   |\n",
      "|Sunset Gardens                      |wedding   |5.0|40   |\n",
      "|Hoover Dam Tour Company             |tour      |5.0|35   |\n",
      "|Yuri's Popcorn & More               |popcorn   |5.0|35   |\n",
      "|The Buffet                          |wynn      |5.0|35   |\n",
      "|Ichi Ban Japanese Restaurant & Sushi|sushi     |5.0|35   |\n",
      "|Sushi Catcher                       |sushi     |5.0|35   |\n",
      "|Southwest Stained Glass             |rick      |5.0|35   |\n",
      "|Parkway Honda                       |honda     |5.0|35   |\n",
      "|The P Jays Take Out                 |ox        |5.0|35   |\n",
      "|DiBella's Subs                      |bread     |5.0|35   |\n",
      "|Alexanders Salon                    |skin      |5.0|35   |\n",
      "|Oh Curry                            |curry     |5.0|35   |\n",
      "|Capitol Collision Repair            |car       |5.0|35   |\n",
      "|Graceland Wedding Chapel            |marriage  |5.0|35   |\n",
      "|Flippin' Rice                       |rice      |5.0|35   |\n",
      "|Shish Kabob House                   |beef      |5.0|35   |\n",
      "|Burgatory                           |step      |5.0|35   |\n",
      "|Yardbird Southern Table & Bar       |fried     |5.0|35   |\n",
      "|Rosita's Place                      |red       |5.0|35   |\n",
      "|The Clever Koi                      |stars     |5.0|35   |\n",
      "|LOFT                                |loft      |5.0|35   |\n",
      "|Samurai Japanese Steakhouse & Sushi |roll      |5.0|35   |\n",
      "|Pointe In Tyme                      |restaurant|5.0|35   |\n",
      "|Airbridge Tours                     |time      |5.0|35   |\n",
      "|Princess Center Dentistry           |musselman |5.0|35   |\n",
      "|L'Avenue                            |est       |5.0|30   |\n",
      "|Lucent Studios                      |hair      |5.0|30   |\n",
      "|Square Saint-Louis                  |le        |5.0|30   |\n",
      "|Century 16 South Point              |movie     |5.0|30   |\n",
      "|Planet Beach                        |bed       |5.0|30   |\n",
      "|Duquesne Incline                    |change    |5.0|30   |\n",
      "+------------------------------------+----------+---+-----+\n",
      "only showing top 50 rows\n",
      "\n"
     ]
    }
   ],
   "source": [
    "sparkSession.sql(\"\"\"\n",
    "select /*+ MAPJOIN(stop_words) */\n",
    "    business_id,\n",
    "    business_name,\n",
    "    word,\n",
    "    avg,\n",
    "    total\n",
    "from(\n",
    "    select \n",
    "        b.business_id business_id,\n",
    "        b.name business_name,\n",
    "        regexp_replace(lw.w,\"[^a-z]\",\"\") word,\n",
    "        avg(r.stars) avg,\n",
    "        sum(r.stars) total\n",
    "    from review r\n",
    "         inner join business b on b.business_id = r.business_id\n",
    "     lateral view explode(split(lower(r.text),\" \")) lw as w\n",
    "    group by b.business_id,b.name,word\n",
    ") T\n",
    "left join stop_words sw on sw.value=T.word\n",
    "where sw.value is null and T.word <> '' and total>200 \n",
    "order by T.avg desc,T.total desc\n",
    "\"\"\"\n",
    ").show(50,false)"
   ]
  },
  {
   "cell_type": "code",
   "execution_count": null,
   "metadata": {
    "collapsed": true
   },
   "outputs": [],
   "source": []
  }
 ],
 "metadata": {
  "kernelspec": {
   "display_name": "Apache Toree - Scala",
   "language": "scala",
   "name": "apache_toree_scala"
  },
  "language_info": {
   "file_extension": ".scala",
   "name": "scala",
   "version": "2.11.8"
  }
 },
 "nbformat": 4,
 "nbformat_minor": 2
}
