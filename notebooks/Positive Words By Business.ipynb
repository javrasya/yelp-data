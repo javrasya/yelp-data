{
 "cells": [
  {
   "cell_type": "code",
   "execution_count": 1,
   "metadata": {
    "collapsed": true
   },
   "outputs": [],
   "source": [
    "import org.apache.spark.sql.SparkSession\n",
    "import org.apache.spark.sql.cassandra._\n",
    "val sparkSession = SparkSession.builder().config(sc.getConf).getOrCreate()\n",
    "import sparkSession.implicits._"
   ]
  },
  {
   "cell_type": "code",
   "execution_count": 2,
   "metadata": {
    "collapsed": true
   },
   "outputs": [],
   "source": [
    "sparkSession.read.textFile(\"file:///usr/lib/yelp_data/stopwords/stopwords_*.txt\").createOrReplaceTempView(\"stop_words\")\n",
    "sparkSession.read.cassandraFormat(keyspace = \"yelp\", table = \"review\").load().createOrReplaceTempView(\"review\")\n",
    "sparkSession.read.cassandraFormat(keyspace = \"yelp\", table = \"business\").load().createOrReplaceTempView(\"business\")"
   ]
  },
  {
   "cell_type": "code",
   "execution_count": 3,
   "metadata": {},
   "outputs": [
    {
     "name": "stdout",
     "output_type": "stream",
     "text": [
      "+----------------------+------------------------------------+---------+------------------+-----+\n",
      "|business_id           |business_name                       |word     |avg               |total|\n",
      "+----------------------+------------------------------------+---------+------------------+-----+\n",
      "|EU3DE9JD5kFcgchB_P4LNw|Best Mattress                       |kevin    |4.901234567901234 |397  |\n",
      "|piGQNN6ECbSC0agHhvoVeg|Luxy Nail Salon                     |amazing  |4.793103448275862 |278  |\n",
      "|piGQNN6ECbSC0agHhvoVeg|Luxy Nail Salon                     |love     |4.733333333333333 |355  |\n",
      "|EU3DE9JD5kFcgchB_P4LNw|Best Mattress                       |bed      |4.673076923076923 |243  |\n",
      "|gMUAn6xcuE-TbY1seFw_Ww|Presto Calzone Bakery               |fresh    |4.65625           |298  |\n",
      "|Eq3qA7F5uZBUbcYXROzntA|Shinano Sushi Bar & Japanese Cuisine|japanese |4.648148148148148 |251  |\n",
      "|piGQNN6ECbSC0agHhvoVeg|Luxy Nail Salon                     |aiden    |4.596153846153846 |239  |\n",
      "|EU3DE9JD5kFcgchB_P4LNw|Best Mattress                       |alan     |4.576923076923077 |238  |\n",
      "|YPavuOh2XsnRbLfl0DH2lQ|Lo-Lo's Chicken & Waffles           |favorite |4.569444444444445 |329  |\n",
      "|YPavuOh2XsnRbLfl0DH2lQ|Lo-Lo's Chicken & Waffles           |awesome  |4.54954954954955  |505  |\n",
      "|jDqaz1jKdeWk_fTVCzc1Pg|Conflict Kitchen                    |delicious|4.54              |227  |\n",
      "|2px99IppAcnxR238eq_8_w|Big Buddha                          |love     |4.538461538461538 |236  |\n",
      "|gMUAn6xcuE-TbY1seFw_Ww|Presto Calzone Bakery               |italian  |4.528301886792453 |240  |\n",
      "|4tzmCT04wTAbbiZFKo2cPQ|Discount Tire Store - Las Vegas, NV |time     |4.509803921568627 |230  |\n",
      "|4tzmCT04wTAbbiZFKo2cPQ|Discount Tire Store - Las Vegas, NV |service  |4.5               |414  |\n",
      "|YPavuOh2XsnRbLfl0DH2lQ|Lo-Lo's Chicken & Waffles           |perfectly|4.5               |252  |\n",
      "|YPavuOh2XsnRbLfl0DH2lQ|Lo-Lo's Chicken & Waffles           |perfect  |4.4772727272727275|394  |\n",
      "|YPavuOh2XsnRbLfl0DH2lQ|Lo-Lo's Chicken & Waffles           |delicious|4.471774193548387 |1109 |\n",
      "|YPavuOh2XsnRbLfl0DH2lQ|Lo-Lo's Chicken & Waffles           |lemonade |4.4603174603174605|281  |\n",
      "|Ja4stXdNYr39u5CZHMNtjw|Cien Agaves Tacos & Tequila         |amazing  |4.449275362318841 |307  |\n",
      "|YPavuOh2XsnRbLfl0DH2lQ|Lo-Lo's Chicken & Waffles           |jar      |4.447916666666667 |427  |\n",
      "|jDqaz1jKdeWk_fTVCzc1Pg|Conflict Kitchen                    |conflict |4.44              |555  |\n",
      "|4tzmCT04wTAbbiZFKo2cPQ|Discount Tire Store - Las Vegas, NV |car      |4.44              |222  |\n",
      "|YPavuOh2XsnRbLfl0DH2lQ|Lo-Lo's Chicken & Waffles           |okra     |4.431034482758621 |257  |\n",
      "|jDqaz1jKdeWk_fTVCzc1Pg|Conflict Kitchen                    |kitchen  |4.423076923076923 |345  |\n",
      "|piGQNN6ECbSC0agHhvoVeg|Luxy Nail Salon                     |luxy     |4.416666666666667 |265  |\n",
      "|YPavuOh2XsnRbLfl0DH2lQ|Lo-Lo's Chicken & Waffles           |smothered|4.407407407407407 |357  |\n",
      "|YPavuOh2XsnRbLfl0DH2lQ|Lo-Lo's Chicken & Waffles           |spot     |4.394366197183099 |312  |\n",
      "|YPavuOh2XsnRbLfl0DH2lQ|Lo-Lo's Chicken & Waffles           |amazing  |4.393518518518518 |949  |\n",
      "|YPavuOh2XsnRbLfl0DH2lQ|Lo-Lo's Chicken & Waffles           |platter  |4.391304347826087 |202  |\n",
      "|gMUAn6xcuE-TbY1seFw_Ww|Presto Calzone Bakery               |calzone  |4.380597014925373 |587  |\n",
      "|YPavuOh2XsnRbLfl0DH2lQ|Lo-Lo's Chicken & Waffles           |love     |4.36734693877551  |1284 |\n",
      "|YPavuOh2XsnRbLfl0DH2lQ|Lo-Lo's Chicken & Waffles           |mason    |4.3565891472868215|562  |\n",
      "|YPavuOh2XsnRbLfl0DH2lQ|Lo-Lo's Chicken & Waffles           |yummy    |4.354166666666667 |209  |\n",
      "|YPavuOh2XsnRbLfl0DH2lQ|Lo-Lo's Chicken & Waffles           |koolaid  |4.3352272727272725|763  |\n",
      "|YPavuOh2XsnRbLfl0DH2lQ|Lo-Lo's Chicken & Waffles           |phoenix  |4.330645161290323 |1074 |\n",
      "|piGQNN6ECbSC0agHhvoVeg|Luxy Nail Salon                     |clean    |4.319148936170213 |203  |\n",
      "|gMUAn6xcuE-TbY1seFw_Ww|Presto Calzone Bakery               |calzones |4.31496062992126  |548  |\n",
      "|2px99IppAcnxR238eq_8_w|Big Buddha                          |friendly |4.313432835820896 |289  |\n",
      "|YPavuOh2XsnRbLfl0DH2lQ|Lo-Lo's Chicken & Waffles           |crispy   |4.312977099236641 |565  |\n",
      "|Ja4stXdNYr39u5CZHMNtjw|Cien Agaves Tacos & Tequila         |staff    |4.3090909090909095|237  |\n",
      "|YPavuOh2XsnRbLfl0DH2lQ|Lo-Lo's Chicken & Waffles           |syrup    |4.308411214953271 |461  |\n",
      "|YPavuOh2XsnRbLfl0DH2lQ|Lo-Lo's Chicken & Waffles           |breakfast|4.3052631578947365|409  |\n",
      "|YPavuOh2XsnRbLfl0DH2lQ|Lo-Lo's Chicken & Waffles           |juicy    |4.299065420560748 |460  |\n",
      "|YPavuOh2XsnRbLfl0DH2lQ|Lo-Lo's Chicken & Waffles           |moist    |4.291666666666667 |309  |\n",
      "|Ja4stXdNYr39u5CZHMNtjw|Cien Agaves Tacos & Tequila         |awesome  |4.290909090909091 |236  |\n",
      "|mvsnt4q3A5TzcbPFolpsZQ|Tesoro Ristorante Italiano          |italian  |4.2894736842105265|326  |\n",
      "|YPavuOh2XsnRbLfl0DH2lQ|Lo-Lo's Chicken & Waffles           |huge     |4.282051282051282 |334  |\n",
      "|YPavuOh2XsnRbLfl0DH2lQ|Lo-Lo's Chicken & Waffles           |tasty    |4.2745098039215685|436  |\n",
      "|YPavuOh2XsnRbLfl0DH2lQ|Lo-Lo's Chicken & Waffles           |trip     |4.270833333333333 |205  |\n",
      "+----------------------+------------------------------------+---------+------------------+-----+\n",
      "only showing top 50 rows\n",
      "\n"
     ]
    }
   ],
   "source": [
    "sparkSession.sql(\"\"\"\n",
    "select /*+ MAPJOIN(stop_words) */\n",
    "    business_id,\n",
    "    business_name,\n",
    "    word,\n",
    "    avg,\n",
    "    total\n",
    "from(\n",
    "    select \n",
    "        b.business_id business_id,\n",
    "        b.name business_name,\n",
    "        regexp_replace(lw.w,\"[^a-z]\",\"\") word,\n",
    "        avg(r.stars) avg,\n",
    "        sum(r.stars) total\n",
    "    from review r\n",
    "         inner join business b on b.business_id = r.business_id\n",
    "     lateral view explode(split(lower(r.text),\" \")) lw as w\n",
    "    group by b.business_id,b.name,word\n",
    ") T\n",
    "left join stop_words sw on sw.value=T.word\n",
    "where sw.value is null and T.word <> '' and total>200 \n",
    "order by T.avg desc,T.total desc\n",
    "\"\"\"\n",
    ").show(50,false)"
   ]
  },
  {
   "cell_type": "code",
   "execution_count": null,
   "metadata": {
    "collapsed": true
   },
   "outputs": [],
   "source": []
  }
 ],
 "metadata": {
  "kernelspec": {
   "display_name": "Apache Toree - Scala",
   "language": "scala",
   "name": "apache_toree_scala"
  },
  "language_info": {
   "file_extension": ".scala",
   "name": "scala",
   "version": "2.11.8"
  }
 },
 "nbformat": 4,
 "nbformat_minor": 2
}
